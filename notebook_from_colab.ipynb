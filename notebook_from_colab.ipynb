{
  "nbformat": 4,
  "nbformat_minor": 0,
  "metadata": {
    "colab": {
      "name": "Untitled22.ipynb",
      "provenance": [],
      "collapsed_sections": []
    },
    "kernelspec": {
      "name": "python3",
      "display_name": "Python 3"
    },
    "language_info": {
      "name": "python"
    },
    "accelerator": "GPU"
  },
  "cells": [
    {
      "cell_type": "code",
      "metadata": {
        "id": "BsxTgBePcmWf",
        "colab": {
          "base_uri": "https://localhost:8080/"
        },
        "outputId": "34b0f04d-726e-4e5b-b5a3-7a2d541ee0ac"
      },
      "source": [
        "!gdown --id 1lyMMb_3H4VT8mDhppC-CjZWC8Pc9LeTI -q\n",
        "!unzip -q nlp_lab2.zip\n",
        "!pip install -r requirements.txt -q"
      ],
      "execution_count": null,
      "outputs": [
        {
          "output_type": "stream",
          "text": [
            "\u001b[K     |████████████████████████████████| 133kB 7.8MB/s \n",
            "\u001b[K     |████████████████████████████████| 1.3MB 34.3MB/s \n",
            "\u001b[K     |████████████████████████████████| 163kB 50.0MB/s \n",
            "\u001b[K     |████████████████████████████████| 143kB 35.1MB/s \n",
            "\u001b[K     |████████████████████████████████| 9.8MB 34.3MB/s \n",
            "\u001b[K     |████████████████████████████████| 184kB 56.6MB/s \n",
            "\u001b[K     |████████████████████████████████| 92kB 12.0MB/s \n",
            "\u001b[K     |████████████████████████████████| 81kB 12.3MB/s \n",
            "\u001b[K     |████████████████████████████████| 143kB 58.9MB/s \n",
            "\u001b[K     |████████████████████████████████| 102kB 13.5MB/s \n",
            "\u001b[K     |████████████████████████████████| 122kB 60.1MB/s \n",
            "\u001b[K     |████████████████████████████████| 4.1MB 38.3MB/s \n",
            "\u001b[K     |████████████████████████████████| 143kB 57.1MB/s \n",
            "\u001b[K     |████████████████████████████████| 81kB 11.8MB/s \n",
            "\u001b[K     |████████████████████████████████| 102kB 14.3MB/s \n",
            "\u001b[K     |████████████████████████████████| 143kB 58.9MB/s \n",
            "\u001b[K     |████████████████████████████████| 1.5MB 51.2MB/s \n",
            "\u001b[K     |████████████████████████████████| 15.3MB 352kB/s \n",
            "\u001b[K     |████████████████████████████████| 296kB 57.8MB/s \n",
            "\u001b[K     |████████████████████████████████| 51kB 7.8MB/s \n",
            "\u001b[K     |████████████████████████████████| 1.0MB 43.8MB/s \n",
            "\u001b[K     |████████████████████████████████| 9.1MB 42.7MB/s \n",
            "\u001b[K     |████████████████████████████████| 696kB 41.2MB/s \n",
            "\u001b[K     |████████████████████████████████| 92kB 12.8MB/s \n",
            "\u001b[K     |████████████████████████████████| 727kB 43.7MB/s \n",
            "\u001b[K     |████████████████████████████████| 61kB 8.7MB/s \n",
            "\u001b[K     |████████████████████████████████| 122kB 64.4MB/s \n",
            "\u001b[K     |████████████████████████████████| 12.8MB 42.5MB/s \n",
            "\u001b[K     |████████████████████████████████| 460kB 50.1MB/s \n",
            "\u001b[K     |████████████████████████████████| 1.1MB 42.8MB/s \n",
            "\u001b[K     |████████████████████████████████| 81kB 11.4MB/s \n",
            "\u001b[K     |████████████████████████████████| 747kB 45.7MB/s \n",
            "\u001b[K     |████████████████████████████████| 153kB 62.2MB/s \n",
            "\u001b[K     |████████████████████████████████| 296kB 59.9MB/s \n",
            "\u001b[K     |████████████████████████████████| 51kB 8.7MB/s \n",
            "\u001b[K     |████████████████████████████████| 112kB 60.1MB/s \n",
            "\u001b[K     |████████████████████████████████| 829kB 42.6MB/s \n",
            "\u001b[?25h  Building wheel for pyperclip (setup.py) ... \u001b[?25l\u001b[?25hdone\n",
            "  Building wheel for smart-open (setup.py) ... \u001b[?25l\u001b[?25hdone\n",
            "  Building wheel for future (setup.py) ... \u001b[?25l\u001b[?25hdone\n",
            "\u001b[31mERROR: tensorflow 2.4.1 has requirement grpcio~=1.32.0, but you'll have grpcio 1.35.0 which is incompatible.\u001b[0m\n",
            "\u001b[31mERROR: tensorflow 2.4.1 has requirement numpy~=1.19.2, but you'll have numpy 1.20.3 which is incompatible.\u001b[0m\n",
            "\u001b[31mERROR: tensorflow 2.4.1 has requirement typing-extensions~=3.7.4, but you'll have typing-extensions 3.10.0.0 which is incompatible.\u001b[0m\n",
            "\u001b[31mERROR: google-colab 1.0.0 has requirement requests~=2.23.0, but you'll have requests 2.25.1 which is incompatible.\u001b[0m\n",
            "\u001b[31mERROR: datascience 0.10.6 has requirement folium==0.2.1, but you'll have folium 0.8.3 which is incompatible.\u001b[0m\n",
            "\u001b[31mERROR: albumentations 0.1.12 has requirement imgaug<0.2.7,>=0.2.5, but you'll have imgaug 0.2.9 which is incompatible.\u001b[0m\n",
            "\u001b[31mERROR: aiohttp 3.7.3 has requirement chardet<4.0,>=2.0, but you'll have chardet 4.0.0 which is incompatible.\u001b[0m\n",
            "\u001b[31mERROR: pytorch-lightning 1.1.8 has requirement PyYAML!=5.4.*,>=5.1, but you'll have pyyaml 3.13 which is incompatible.\u001b[0m\n"
          ],
          "name": "stdout"
        }
      ]
    },
    {
      "cell_type": "code",
      "metadata": {
        "id": "DPw7V0bFQ_5e"
      },
      "source": [
        "import matplotlib.pyplot as plt\n",
        "\n",
        "import data_preprocessing\n",
        "import get_bleu_score\n",
        "import train_pipeline\n",
        "import utils\n",
        "\n",
        "import lstm_attention\n",
        "import GRU_attention\n",
        "import GRU_only\n",
        "import baseline"
      ],
      "execution_count": null,
      "outputs": []
    },
    {
      "cell_type": "code",
      "metadata": {
        "id": "-Q6OcuLCRIrb"
      },
      "source": [
        "train_data, valid_data, test_data, SRC, TRG = data_preprocessing.return_preprocessed_data()"
      ],
      "execution_count": null,
      "outputs": []
    },
    {
      "cell_type": "markdown",
      "metadata": {
        "id": "fLcnXu6jQpTQ"
      },
      "source": [
        "# 1 Baseline with more iterations"
      ]
    },
    {
      "cell_type": "code",
      "metadata": {
        "colab": {
          "base_uri": "https://localhost:8080/"
        },
        "id": "xl7eFOG2duzd",
        "outputId": "12797c10-e052-4fa9-b24a-e9d38a550497"
      },
      "source": [
        "baseline_model, train_history, valid_history, test_iterator = \\\n",
        "                train_pipeline.train_model(train_data, \n",
        "                                           valid_data, \n",
        "                                           test_data, \n",
        "                                           SRC, TRG,\n",
        "                                           baseline.Encoder,\n",
        "                                           baseline.Decoder, \n",
        "                                           baseline.Seq2Seq, \n",
        "                                           'Baseline 30 iters',\n",
        "                                           batch_size=32,\n",
        "                                           n_iter=30)"
      ],
      "execution_count": null,
      "outputs": [
        {
          "output_type": "stream",
          "text": [
            "1250it [02:04, 10.07it/s]\n",
            "1250it [02:03, 10.12it/s]\n",
            "1250it [02:03, 10.16it/s]\n",
            "1250it [02:03, 10.08it/s]\n",
            "1250it [02:03, 10.13it/s]\n",
            "1250it [02:03, 10.13it/s]\n",
            "1250it [02:03, 10.11it/s]\n",
            "1250it [02:03, 10.11it/s]\n",
            "1250it [02:03, 10.13it/s]\n",
            "1250it [02:03, 10.12it/s]\n",
            "1250it [02:03, 10.14it/s]\n",
            "1250it [02:03, 10.08it/s]\n",
            "1250it [02:03, 10.11it/s]\n",
            "1250it [02:04, 10.07it/s]\n",
            "1250it [02:03, 10.14it/s]\n",
            "1250it [02:03, 10.13it/s]\n",
            "1250it [02:03, 10.10it/s]\n",
            "1250it [02:04, 10.07it/s]\n",
            "1250it [02:03, 10.08it/s]\n",
            "1250it [02:03, 10.09it/s]\n",
            "1250it [02:04, 10.05it/s]\n",
            "1250it [02:03, 10.13it/s]\n",
            "1250it [02:04, 10.04it/s]\n",
            "1250it [02:03, 10.10it/s]\n",
            "1250it [02:03, 10.10it/s]\n",
            "1250it [02:03, 10.14it/s]\n",
            "1250it [02:03, 10.16it/s]\n",
            "1250it [02:03, 10.11it/s]\n",
            "1250it [02:05, 10.00it/s]\n",
            "1250it [02:04, 10.00it/s]\n"
          ],
          "name": "stderr"
        }
      ]
    },
    {
      "cell_type": "code",
      "metadata": {
        "id": "bIBkr3eed1X4"
      },
      "source": [
        "bleu_score, original_text, generated_text = get_bleu_score.get_bleu_score(baseline_model, test_iterator, TRG)"
      ],
      "execution_count": null,
      "outputs": []
    },
    {
      "cell_type": "code",
      "metadata": {
        "colab": {
          "base_uri": "https://localhost:8080/"
        },
        "id": "8Y--o5dxg6tA",
        "outputId": "bb46d3a0-58c4-47b7-aee9-119b9c97bfd1"
      },
      "source": [
        "print(bleu_score)"
      ],
      "execution_count": null,
      "outputs": [
        {
          "output_type": "stream",
          "text": [
            "21.65903045271914\n"
          ],
          "name": "stdout"
        }
      ]
    },
    {
      "cell_type": "code",
      "metadata": {
        "colab": {
          "base_uri": "https://localhost:8080/"
        },
        "id": "shNQixUSg83Y",
        "outputId": "7a528954-6801-4c5e-f345-6453cf972357"
      },
      "source": [
        "for i in range(5):\n",
        "    print('original:', ' '.join(original_text[i]))\n",
        "    print('translated:', ' '.join(generated_text[i]))\n",
        "    print()"
      ],
      "execution_count": null,
      "outputs": [
        {
          "output_type": "stream",
          "text": [
            "original: you will find a gift shop at the property .\n",
            "translated: there is a a souvenir shop .\n",
            "\n",
            "original: the property offers free parking .\n",
            "translated: free parking .\n",
            "\n",
            "original: there is also an electric kettle .\n",
            "translated: full kitchen with a refrigerator and electric kettle .\n",
            "\n",
            "original: towels are offered .\n",
            "translated: also included .\n",
            "\n",
            "original: bed linen is provided .\n",
            "translated: linen and a private bathroom .\n",
            "\n"
          ],
          "name": "stdout"
        }
      ]
    },
    {
      "cell_type": "code",
      "metadata": {
        "colab": {
          "base_uri": "https://localhost:8080/",
          "height": 285
        },
        "id": "z0cqD5tVjBsP",
        "outputId": "74ed819c-3060-406a-af57-5c51b6466c00"
      },
      "source": [
        "plt.plot(train_history, label='train')\n",
        "plt.plot(valid_history, label='valid')\n",
        "plt.legend()"
      ],
      "execution_count": null,
      "outputs": [
        {
          "output_type": "execute_result",
          "data": {
            "text/plain": [
              "<matplotlib.legend.Legend at 0x7fb7267cd3d0>"
            ]
          },
          "metadata": {
            "tags": []
          },
          "execution_count": 15
        },
        {
          "output_type": "display_data",
          "data": {
            "image/png": "[encoded data removed]",
            "text/plain": [
              "<Figure size 432x288 with 1 Axes>"
            ]
          },
          "metadata": {
            "tags": [],
            "needs_background": "light"
          }
        }
      ]
    },
    {
      "cell_type": "markdown",
      "metadata": {
        "id": "EqdJLxvj8kv7"
      },
      "source": [
        "Бейзлайн с увеличенным количеством итераций (30) удалось обучить до BLEU = 21.  \n",
        "Качестве модели очень среднее.  \n",
        "Обучение на Colab Pro с карточками Tesla P100 длилось около часа.  \n",
        "Модель переобучается после 10 итерации.  \n",
        "В режиме inference модель сможет обрабатывать батч размером 32 за 0.1 секунды."
      ]
    },
    {
      "cell_type": "markdown",
      "metadata": {
        "id": "G-L6JPat-Uoq"
      },
      "source": [
        "# 2. Only GRU"
      ]
    },
    {
      "cell_type": "code",
      "metadata": {
        "colab": {
          "base_uri": "https://localhost:8080/"
        },
        "id": "HrDe6lYD-W-J",
        "outputId": "b4e2f8d6-07e4-4321-e499-63fbee01449e"
      },
      "source": [
        "gru_only_model, train_history, valid_history, test_iterator = \\\n",
        "                train_pipeline.train_model(train_data, \n",
        "                                           valid_data, \n",
        "                                           test_data, \n",
        "                                           SRC, TRG,\n",
        "                                           GRU_only.Encoder,\n",
        "                                           GRU_only.Decoder, \n",
        "                                           GRU_only.Seq2Seq, \n",
        "                                           'Baseline 20 iters',\n",
        "                                           batch_size=32,\n",
        "                                           n_iter=20)"
      ],
      "execution_count": null,
      "outputs": [
        {
          "output_type": "stream",
          "text": [
            "1250it [01:47, 11.65it/s]\n",
            "1250it [01:47, 11.67it/s]\n",
            "1250it [01:45, 11.81it/s]\n",
            "1250it [01:46, 11.74it/s]\n",
            "1250it [01:46, 11.75it/s]\n",
            "1250it [01:46, 11.78it/s]\n",
            "1250it [01:47, 11.62it/s]\n",
            "1250it [01:47, 11.62it/s]\n",
            "1250it [01:46, 11.69it/s]\n",
            "1250it [01:46, 11.73it/s]\n",
            "1250it [01:46, 11.69it/s]\n",
            "1250it [01:46, 11.69it/s]\n",
            "1250it [01:46, 11.73it/s]\n",
            "1250it [01:46, 11.71it/s]\n",
            "1250it [01:46, 11.73it/s]\n",
            "1250it [01:46, 11.71it/s]\n",
            "1250it [01:46, 11.74it/s]\n",
            "1250it [01:46, 11.76it/s]\n",
            "1250it [01:46, 11.73it/s]\n",
            "1250it [01:46, 11.71it/s]\n"
          ],
          "name": "stderr"
        }
      ]
    },
    {
      "cell_type": "code",
      "metadata": {
        "colab": {
          "base_uri": "https://localhost:8080/"
        },
        "id": "RrumYujtBQhS",
        "outputId": "7f38f24c-91f0-4b26-83bd-5162910189d1"
      },
      "source": [
        "bleu_score, original_text, generated_text = get_bleu_score.get_bleu_score(gru_only_model, test_iterator, TRG)\n",
        "print(bleu_score)"
      ],
      "execution_count": null,
      "outputs": [
        {
          "output_type": "stream",
          "text": [
            "23.445399283386624\n"
          ],
          "name": "stdout"
        }
      ]
    },
    {
      "cell_type": "code",
      "metadata": {
        "colab": {
          "base_uri": "https://localhost:8080/"
        },
        "id": "tQ34PhabBZzQ",
        "outputId": "cea27266-5c1a-48f9-dedc-f8f5c2b80563"
      },
      "source": [
        "for i in range(5):\n",
        "    print('original:', ' '.join(original_text[i]))\n",
        "    print('translated:', ' '.join(generated_text[i]))\n",
        "    print()"
      ],
      "execution_count": null,
      "outputs": [
        {
          "output_type": "stream",
          "text": [
            "original: free parking facility is available .\n",
            "translated: parking is provided .\n",
            "\n",
            "original: linens are offered .\n",
            "translated: bed linen is featured .\n",
            "\n",
            "original: free wifi access is available .\n",
            "translated: free wi - fi access is available .\n",
            "\n",
            "original: free wifi access is available .\n",
            "translated: free wi - fi access is available .\n",
            "\n",
            "original: the property offers free parking .\n",
            "translated: parking is provided .\n",
            "\n"
          ],
          "name": "stdout"
        }
      ]
    },
    {
      "cell_type": "code",
      "metadata": {
        "colab": {
          "base_uri": "https://localhost:8080/",
          "height": 282
        },
        "id": "N_EH3nMEBdH_",
        "outputId": "e569d861-e7e8-48cc-e444-7b31258488c7"
      },
      "source": [
        "plt.plot(train_history, label='train')\n",
        "plt.plot(valid_history, label='valid')\n",
        "plt.legend()"
      ],
      "execution_count": null,
      "outputs": [
        {
          "output_type": "execute_result",
          "data": {
            "text/plain": [
              "<matplotlib.legend.Legend at 0x7f28ac89c250>"
            ]
          },
          "metadata": {
            "tags": []
          },
          "execution_count": 7
        },
        {
          "output_type": "display_data",
          "data": {
            "image/png": "[encoded data removed]",
            "text/plain": [
              "<Figure size 432x288 with 1 Axes>"
            ]
          },
          "metadata": {
            "tags": [],
            "needs_background": "light"
          }
        }
      ]
    },
    {
      "cell_type": "markdown",
      "metadata": {
        "id": "XHTUOVEf9fre"
      },
      "source": [
        "Обычный decoder-encoder на GRU на 20 итерациях удалось обучить до BLEU = 23.44.  \n",
        "Качестве модели лучше, чем бейзлайн.  \n",
        "Обучение на Colab Pro с карточками Tesla P100 длилось полчаса (быстрее, чем LSTM baseline, что вполне логично).  \n",
        "Модель переобучается после 8 итерации.  \n",
        "В режиме inference модель сможет обрабатывать батч размером 32 за 0.09 секунды."
      ]
    },
    {
      "cell_type": "markdown",
      "metadata": {
        "id": "fkcVT-8KhuSA"
      },
      "source": [
        "# 3. GRU with Attention"
      ]
    },
    {
      "cell_type": "code",
      "metadata": {
        "colab": {
          "base_uri": "https://localhost:8080/"
        },
        "id": "2DtTfgfFhrWE",
        "outputId": "f1f33d9b-2d51-4808-8c51-43f381c6c977"
      },
      "source": [
        "gru_attention_model, train_history, valid_history, test_iterator = \\\n",
        "                train_pipeline.train_model(train_data, \n",
        "                                           valid_data, \n",
        "                                           test_data, \n",
        "                                           SRC, TRG,\n",
        "                                           GRU_attention.Encoder,\n",
        "                                           GRU_attention.Decoder, \n",
        "                                           GRU_attention.Seq2Seq, \n",
        "                                           'GRU only 20 iters',\n",
        "                                           batch_size=32,\n",
        "                                           n_iter=10)"
      ],
      "execution_count": null,
      "outputs": [
        {
          "output_type": "stream",
          "text": [
            "1250it [02:58,  7.00it/s]\n",
            "1250it [02:57,  7.02it/s]\n",
            "1250it [02:57,  7.03it/s]\n",
            "1250it [02:57,  7.03it/s]\n",
            "1250it [02:57,  7.04it/s]\n",
            "1250it [02:58,  7.02it/s]\n",
            "1250it [02:58,  7.02it/s]\n",
            "1250it [02:57,  7.03it/s]\n",
            "1250it [02:58,  6.99it/s]\n",
            "1250it [02:57,  7.03it/s]\n"
          ],
          "name": "stderr"
        }
      ]
    },
    {
      "cell_type": "code",
      "metadata": {
        "id": "TDo1O_SxiXi4"
      },
      "source": [
        "bleu_score, original_text, generated_text = get_bleu_score.get_bleu_score(gru_attention_model, test_iterator, TRG)"
      ],
      "execution_count": null,
      "outputs": []
    },
    {
      "cell_type": "code",
      "metadata": {
        "colab": {
          "base_uri": "https://localhost:8080/"
        },
        "id": "A2kDdn6uuwSy",
        "outputId": "56200f9f-33c9-4389-ff2f-57e79319ecc6"
      },
      "source": [
        "print(bleu_score)"
      ],
      "execution_count": null,
      "outputs": [
        {
          "output_type": "stream",
          "text": [
            "28.092074154958453\n"
          ],
          "name": "stdout"
        }
      ]
    },
    {
      "cell_type": "code",
      "metadata": {
        "colab": {
          "base_uri": "https://localhost:8080/"
        },
        "id": "o0n3m8FFuyk2",
        "outputId": "fbcb31b4-1d92-44d3-aea9-8e9c95138bfe"
      },
      "source": [
        "for i in range(5):\n",
        "    print('original:', ' '.join(original_text[i]))\n",
        "    print('translated:', ' '.join(generated_text[i]))\n",
        "    print()"
      ],
      "execution_count": null,
      "outputs": [
        {
          "output_type": "stream",
          "text": [
            "original: you will find a gift shop at the property .\n",
            "translated: there is a gift shop at the property .\n",
            "\n",
            "original: the property offers free parking .\n",
            "translated: free parking is provided .\n",
            "\n",
            "original: there is also an electric kettle .\n",
            "translated: there is an electric kettle .\n",
            "\n",
            "original: towels are offered .\n",
            "translated: towels are offered .\n",
            "\n",
            "original: bed linen is provided .\n",
            "translated: bed linen is offered .\n",
            "\n"
          ],
          "name": "stdout"
        }
      ]
    },
    {
      "cell_type": "code",
      "metadata": {
        "colab": {
          "base_uri": "https://localhost:8080/",
          "height": 282
        },
        "id": "Ll_sIRwtu3QL",
        "outputId": "be7ddb5a-d7e6-45ff-8bbe-386f948cd932"
      },
      "source": [
        "plt.plot(train_history, label='train')\n",
        "plt.plot(valid_history, label='valid')\n",
        "plt.legend()"
      ],
      "execution_count": null,
      "outputs": [
        {
          "output_type": "execute_result",
          "data": {
            "text/plain": [
              "<matplotlib.legend.Legend at 0x7fb7e0b89410>"
            ]
          },
          "metadata": {
            "tags": []
          },
          "execution_count": 32
        },
        {
          "output_type": "display_data",
          "data": {
            "image/png": "[encoded data removed]",
            "text/plain": [
              "<Figure size 432x288 with 1 Axes>"
            ]
          },
          "metadata": {
            "tags": [],
            "needs_background": "light"
          }
        }
      ]
    },
    {
      "cell_type": "markdown",
      "metadata": {
        "id": "_R510XJq-V27"
      },
      "source": [
        "Decoder-encoder GRU c Attention на 10 итерациях показала качество BLEU = 28.04.  \n",
        "Качестве модели лучше, чем все предыдущие.  \n",
        "Обучение на Colab Pro с карточками Tesla P100 длилось полчаса.  \n",
        "Модель переобучается после 5 итерации.  \n",
        "В режиме inference модель сможет обрабатывать батч размером 32 за 0.14 секунды."
      ]
    },
    {
      "cell_type": "markdown",
      "metadata": {
        "id": "-mw48Qx4vU3-"
      },
      "source": [
        "# 4. LSTM with Attention"
      ]
    },
    {
      "cell_type": "code",
      "metadata": {
        "colab": {
          "base_uri": "https://localhost:8080/"
        },
        "id": "pejq5RElvSoM",
        "outputId": "577ba0bf-9d72-46c2-be19-ab827986b954"
      },
      "source": [
        "lstm_attention_model, train_history, valid_history, test_iterator = \\\n",
        "                train_pipeline.train_model(train_data, \n",
        "                                           valid_data, \n",
        "                                           test_data, \n",
        "                                           SRC, TRG,\n",
        "                                           lstm_attention.Encoder,\n",
        "                                           lstm_attention.Decoder, \n",
        "                                           lstm_attention.Seq2Seq, \n",
        "                                           'LSTM_attention 10 iters',\n",
        "                                           batch_size=32,\n",
        "                                           n_iter=10)"
      ],
      "execution_count": null,
      "outputs": [
        {
          "output_type": "stream",
          "text": [
            "1250it [03:20,  6.23it/s]\n",
            "1250it [03:21,  6.22it/s]\n",
            "1250it [03:21,  6.19it/s]\n",
            "1250it [03:22,  6.19it/s]\n",
            "1250it [03:21,  6.22it/s]\n",
            "1250it [03:20,  6.22it/s]\n",
            "1250it [03:20,  6.22it/s]\n",
            "1250it [03:21,  6.20it/s]\n",
            "1250it [03:21,  6.19it/s]\n",
            "1250it [03:21,  6.21it/s]\n"
          ],
          "name": "stderr"
        }
      ]
    },
    {
      "cell_type": "code",
      "metadata": {
        "colab": {
          "base_uri": "https://localhost:8080/"
        },
        "id": "14Msm5H6vfod",
        "outputId": "6c368042-2abf-42d0-8e3f-26e363c22109"
      },
      "source": [
        "bleu_score, original_text, generated_text = get_bleu_score.get_bleu_score(lstm_attention_model, test_iterator, TRG)\n",
        "print(bleu_score)"
      ],
      "execution_count": null,
      "outputs": [
        {
          "output_type": "stream",
          "text": [
            "33.31715717482361\n"
          ],
          "name": "stdout"
        }
      ]
    },
    {
      "cell_type": "code",
      "metadata": {
        "colab": {
          "base_uri": "https://localhost:8080/"
        },
        "id": "d5wdOugt3lkg",
        "outputId": "811b505d-8c5c-424b-e2ad-2b5f7c4ad9c2"
      },
      "source": [
        "for i in range(5):\n",
        "    print('original:', ' '.join(original_text[i]))\n",
        "    print('translated:', ' '.join(generated_text[i]))\n",
        "    print()"
      ],
      "execution_count": null,
      "outputs": [
        {
          "output_type": "stream",
          "text": [
            "original: you will find a gift shop at the property .\n",
            "translated: there is a souvenir shop at the property .\n",
            "\n",
            "original: the property offers free parking .\n",
            "translated: parking is free .\n",
            "\n",
            "original: there is also an electric kettle .\n",
            "translated: there is also an electric kettle .\n",
            "\n",
            "original: towels are offered .\n",
            "translated: towels are featured .\n",
            "\n",
            "original: bed linen is provided .\n",
            "translated: bed linen is featured .\n",
            "\n"
          ],
          "name": "stdout"
        }
      ]
    },
    {
      "cell_type": "code",
      "metadata": {
        "colab": {
          "base_uri": "https://localhost:8080/",
          "height": 282
        },
        "id": "L2MwoRlq3puN",
        "outputId": "a3d61313-f742-4bfd-fd6c-7652c2df7c7b"
      },
      "source": [
        "plt.plot(train_history, label='train')\n",
        "plt.plot(valid_history, label='valid')\n",
        "plt.legend()"
      ],
      "execution_count": null,
      "outputs": [
        {
          "output_type": "execute_result",
          "data": {
            "text/plain": [
              "<matplotlib.legend.Legend at 0x7fb7266dd610>"
            ]
          },
          "metadata": {
            "tags": []
          },
          "execution_count": 36
        },
        {
          "output_type": "display_data",
          "data": {
            "image/png": "[encoded data removed]",
            "text/plain": [
              "<Figure size 432x288 with 1 Axes>"
            ]
          },
          "metadata": {
            "tags": [],
            "needs_background": "light"
          }
        }
      ]
    },
    {
      "cell_type": "markdown",
      "metadata": {
        "id": "m_LoQGCo-aUT"
      },
      "source": [
        "Decoder-encoder LSTM c Attention на 10 итерациях показала качество BLEU = 33.31.  \n",
        "Качестве модели наилучшее.  \n",
        "Обучение на Colab Pro с карточками Tesla P100 длилось полчаса.  \n",
        "Модель переобучается после 5 итерации, но значительно меньше, чем предыдущие модели.  \n",
        "В режиме inference модель сможет обрабатывать батч размером 32 за 0.14 секунды, как и GRU with Attention"
      ]
    },
    {
      "cell_type": "markdown",
      "metadata": {
        "id": "i1OKg1Wt-rqE"
      },
      "source": [
        "Общие выводы:\n",
        "\n",
        "\n",
        "*   Удалось выбить максимальное качество BLEU = 33.31 на LSTM with Attention.\n",
        "*   В целом модели с Attention справляются лучше с задачей перевода, однако, обучаются значительно дольше. Так же снижается переобучение.\n",
        "\n"
      ]
    }
  ]
}